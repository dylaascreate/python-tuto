{
  "nbformat": 4,
  "nbformat_minor": 0,
  "metadata": {
    "colab": {
      "provenance": [],
      "authorship_tag": "ABX9TyNZ8EmSWdQPPLhAmsLhXdgf",
      "include_colab_link": true
    },
    "kernelspec": {
      "name": "python3",
      "display_name": "Python 3"
    },
    "language_info": {
      "name": "python"
    }
  },
  "cells": [
    {
      "cell_type": "markdown",
      "metadata": {
        "id": "view-in-github",
        "colab_type": "text"
      },
      "source": [
        "<a href=\"https://colab.research.google.com/github/dylaascreate/python-tuto/blob/main/rdc.ipynb\" target=\"_parent\"><img src=\"https://colab.research.google.com/assets/colab-badge.svg\" alt=\"Open In Colab\"/></a>"
      ]
    },
    {
      "cell_type": "code",
      "execution_count": 1,
      "metadata": {
        "colab": {
          "base_uri": "https://localhost:8080/"
        },
        "id": "katY0j1W-EMw",
        "outputId": "0d8146d6-02a8-49c4-91cb-1cd30562fb80"
      },
      "outputs": [
        {
          "output_type": "stream",
          "name": "stdout",
          "text": [
            "ALice\n",
            "35\n"
          ]
        }
      ],
      "source": [
        "#variable\n",
        "name=\"ALice\"\n",
        "age=25\n",
        "height=5.6\n",
        "is_student=True\n",
        "\n",
        "print(name) #output=Alice\n",
        "print(age+10) #output=35"
      ]
    }
  ]
}